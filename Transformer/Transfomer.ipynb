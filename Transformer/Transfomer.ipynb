{
 "cells": [
  {
   "cell_type": "code",
   "execution_count": 1,
   "id": "705fe19a",
   "metadata": {},
   "outputs": [],
   "source": [
    "import tensorflow as tf\n",
    "import tensorflow_addons as tfa\n",
    "import numpy as np\n",
    "import matplotlib.pyplot as plt\n",
    "\n",
    "from tensorflow import keras\n",
    "from tensorflow.keras import layers"
   ]
  },
  {
   "cell_type": "code",
   "execution_count": 2,
   "id": "733af51d",
   "metadata": {},
   "outputs": [
    {
     "name": "stdout",
     "output_type": "stream",
     "text": [
      "x_train shape: (50000, 32, 32, 3) - y_train shape: (50000, 1)\n",
      "x_test shape: (10000, 32, 32, 3) - y_test shape: (10000, 1)\n"
     ]
    }
   ],
   "source": [
    "(x_train, y_train), (x_test, y_test) = keras.datasets.cifar100.load_data()\n",
    "\n",
    "print(f\"x_train shape: {x_train.shape} - y_train shape: {y_train.shape}\")\n",
    "print(f\"x_test shape: {x_test.shape} - y_test shape: {y_test.shape}\")"
   ]
  },
  {
   "cell_type": "markdown",
   "id": "7d4dd522",
   "metadata": {},
   "source": [
    "# Configure the hyperparameters"
   ]
  },
  {
   "cell_type": "code",
   "execution_count": 3,
   "id": "dca32b68",
   "metadata": {},
   "outputs": [],
   "source": [
    "learning_rate = 0.001\n",
    "weight_decay = 0.0001\n",
    "batch_size = 256\n",
    "num_epochs = 100\n",
    "image_size = 256  # We'll resize input images to this size\n",
    "patch_size = 8  # Size of the patches to be extract from the input images\n",
    "num_patches = (image_size // patch_size) ** 2\n",
    "projection_dim = 128\n",
    "num_heads = 4\n",
    "scale = projection_dim ** -0.5\n",
    "dropout=0.1\n",
    "epsilon=1e-6\n",
    "transformer_units = [\n",
    "                     projection_dim * 2,\n",
    "                     projection_dim,\n",
    "                    ]  # Size of the transformer layers\n",
    "num_encoder_transformer_layers = 4\n",
    "num_decoder_transformer_layers = 4\n",
    "input_shape = (384, 384, 3)\n",
    "num_classes = 5"
   ]
  },
  {
   "cell_type": "code",
   "execution_count": 4,
   "id": "bb6c4170",
   "metadata": {},
   "outputs": [],
   "source": [
    "DataPreprocessing = keras.Sequential(\n",
    "                                     [\n",
    "                                        layers.experimental.preprocessing.Normalization(),\n",
    "                                        layers.experimental.preprocessing.Resizing(image_size, image_size,interpolation='bilinear'),\n",
    "                                     ],\n",
    "                                     name = 'data_preprocessing',\n",
    "                                    )\n",
    "# Compute the mean and the variance of the training data for normalization.\n",
    "DataPreprocessing.layers[0].adapt(x_train)"
   ]
  },
  {
   "cell_type": "markdown",
   "id": "085671f6",
   "metadata": {},
   "source": [
    "# Implement Multi Layer Perceptron (MLP)"
   ]
  },
  {
   "cell_type": "code",
   "execution_count": 5,
   "id": "3948186c",
   "metadata": {},
   "outputs": [],
   "source": [
    "def mlp(x, hidden_units, dropout_rate):\n",
    "    for units in hidden_units:\n",
    "        x = layers.Dense(units, activation=tf.nn.gelu)(x)\n",
    "        x = layers.Dropout(dropout_rate)(x)\n",
    "    return x"
   ]
  },
  {
   "cell_type": "markdown",
   "id": "e2270e0b",
   "metadata": {},
   "source": [
    "# Implement Patch creation as a layer"
   ]
  },
  {
   "cell_type": "code",
   "execution_count": 6,
   "id": "eeb23466",
   "metadata": {},
   "outputs": [],
   "source": [
    "class Patches(layers.Layer):\n",
    "    def __init__(self, patch_size):\n",
    "        super(Patches, self).__init__()\n",
    "        self.patch_size = patch_size\n",
    "\n",
    "    def call(self, images):\n",
    "        patches = tf.image.extract_patches(\n",
    "                                            images=images,\n",
    "                                            sizes=[1, self.patch_size, self.patch_size, 1],\n",
    "                                            strides=[1, self.patch_size, self.patch_size, 1],\n",
    "                                            rates=[1, 1, 1, 1],\n",
    "                                            padding=\"VALID\",\n",
    "                                          )\n",
    "        patch_dims = patches.shape[-1]\n",
    "        patches = tf.reshape(patches, [tf.shape(patches)[0], patches.shape[1] * patches.shape[2], patch_dims])\n",
    "\n",
    "        return patches\n"
   ]
  },
  {
   "cell_type": "code",
   "execution_count": 7,
   "id": "662db319",
   "metadata": {},
   "outputs": [],
   "source": [
    "def show_patches(x_train, image_size, patch_size):\n",
    "    \n",
    "    image = x_train[np.random.choice(range(x_train.shape[0]))]\n",
    "\n",
    "    plt.figure(figsize=(4, 4))\n",
    "    plt.imshow(image.astype(\"uint8\"))\n",
    "    plt.axis(\"off\")\n",
    "\n",
    "    resized_image = tf.image.resize( tf.convert_to_tensor([image]), size=(image_size, image_size) )\n",
    "    patches = Patches(patch_size)(resized_image)\n",
    "    \n",
    "    print(f\"Input Image size: {image_size} X {image_size} X {resized_image.shape[-1]} \")\n",
    "    print(f\"Patch size: {patch_size} X {patch_size} \")\n",
    "    print(f\"Patch shape: {patches.shape} \")\n",
    "    print(f\"Number of Patches per image: {patches.shape[1]}\")\n",
    "    print(f\"Number of Elements per patch: {patches.shape[-1]}\")\n",
    "\n",
    "    n = int(np.sqrt(patches.shape[1]))\n",
    "    plt.figure(figsize=(4, 4))\n",
    "    for i, patch in enumerate(patches[0]):\n",
    "        ax = plt.subplot(n, n, i + 1)\n",
    "        patch_img = tf.reshape(patch, (patch_size, patch_size, 3))\n",
    "        plt.imshow(patch_img.numpy().astype(\"uint8\"))\n",
    "        plt.axis(\"off\")"
   ]
  },
  {
   "cell_type": "code",
   "execution_count": 8,
   "id": "fab3d291",
   "metadata": {},
   "outputs": [
    {
     "name": "stdout",
     "output_type": "stream",
     "text": [
      "Input Image size: 256 X 256 X 3 \n",
      "Patch size: 8 X 8 \n",
      "Patch shape: (1, 1024, 192) \n",
      "Number of Patches per image: 1024\n",
      "Number of Elements per patch: 192\n"
     ]
    },
    {
     "data": {
      "image/png": "[encoded data removed]",
      "text/plain": [
       "<Figure size 288x288 with 1 Axes>"
      ]
     },
     "metadata": {
      "needs_background": "light"
     },
     "output_type": "display_data"
    },
    {
     "data": {
      "image/png": "[encoded data removed]",
      "text/plain": [
       "<Figure size 288x288 with 1024 Axes>"
      ]
     },
     "metadata": {
      "needs_background": "light"
     },
     "output_type": "display_data"
    }
   ],
   "source": [
    "show_patches(x_train, image_size, patch_size)"
   ]
  },
  {
   "cell_type": "markdown",
   "id": "a00480bb",
   "metadata": {},
   "source": [
    "# Implement Patch encoding layer\n",
    "\n",
    "The PatchEncoder layer will linearly transform a patch by projecting it into a vector of size projection_dim. In addition, it adds a learnable position embedding to the projected vector."
   ]
  },
  {
   "cell_type": "code",
   "execution_count": 9,
   "id": "b0fc06d3",
   "metadata": {},
   "outputs": [],
   "source": [
    "class PatchEncoder(layers.Layer):\n",
    "    def __init__(self, num_patches, projection_dim):\n",
    "        super(PatchEncoder, self).__init__()\n",
    "        self.num_patches = num_patches\n",
    "        self.projection = layers.Dense(units=projection_dim)\n",
    "        self.position_embedding = layers.Embedding( input_dim=num_patches, output_dim=projection_dim)\n",
    "\n",
    "    def call(self, patch):\n",
    "        positions = tf.range(start=0, limit=self.num_patches, delta=1)\n",
    "        encoded = self.projection(patch) + self.position_embedding(positions)\n",
    "        return encoded\n"
   ]
  },
  {
   "cell_type": "markdown",
   "id": "b5178f05",
   "metadata": {},
   "source": [
    "# Build  Transfomer Layer "
   ]
  },
  {
   "cell_type": "code",
   "execution_count": 10,
   "id": "4cc60b32",
   "metadata": {},
   "outputs": [],
   "source": [
    "class TransfomerLayer(layers.Layer):\n",
    "    \n",
    "    def __init__(self, num_transformer_layers, projection_dim, num_heads, transformer_units, dropout, epsilon):\n",
    "        super(TransfomerLayer, self).__init__()\n",
    "        self.num_transformer_layers = num_transformer_layers\n",
    "        self.projection_dim = projection_dim\n",
    "        self.num_heads = num_heads\n",
    "        self.transformer_units = transformer_units\n",
    "        self.dropout = dropout\n",
    "        self.epsilon = epsilon\n",
    "        \n",
    "    def call (self, x):\n",
    "\n",
    "        # Create multiple layers of the Transformer block.\n",
    "        for _ in range(self.num_transformer_layers):\n",
    "            # Layer normalization 1.\n",
    "            x1 = layers.LayerNormalization(epsilon= self.epsilon)(x)\n",
    "            # Create a multi-head attention layer.\n",
    "            attention_output = layers.MultiHeadAttention(\n",
    "                                      num_heads=self.num_heads, key_dim=self.projection_dim, dropout=self.dropout\n",
    "                                                        )(x1, x1)\n",
    "            # Skip connection 1.\n",
    "            x2 = layers.Add()([attention_output, x])\n",
    "            # Layer normalization 2.\n",
    "            x3 = layers.LayerNormalization(epsilon=self.epsilon)(x2)\n",
    "            # MLP.\n",
    "            x3 = mlp(x3, hidden_units=transformer_units, dropout_rate=self.dropout)\n",
    "            # Skip connection 2.\n",
    "            x = layers.Add()([x3, x2])\n",
    "            \n",
    "        return x\n"
   ]
  },
  {
   "cell_type": "code",
   "execution_count": 11,
   "id": "a5a64b71",
   "metadata": {},
   "outputs": [],
   "source": [
    "class Encoder(layers.Layer):\n",
    "\n",
    "    def __init__(self, num_transformer_layers, projection_dim, num_heads, transformer_units, dropout, epsilon):\n",
    "        super(Encoder, self).__init__()\n",
    "        \n",
    "        self.num_transformer_layers =  num_transformer_layers\n",
    "        self.projection_dim = projection_dim\n",
    "        self.num_heads = num_heads\n",
    "        self.transformer_units = transformer_units\n",
    "        self.dropout = dropout\n",
    "        self.epsilon = epsilon\n",
    "        \n",
    "        self.transformerLayer = TransfomerLayer(self.num_transformer_layers, self.projection_dim, self.num_heads,\n",
    "                                                self.transformer_units,  self.dropout,  self.epsilon )\n",
    "\n",
    "    def call(self, x):\n",
    "\n",
    "\n",
    "        x = self.transformerLayer(x)\n",
    "\n",
    "        return x"
   ]
  },
  {
   "cell_type": "code",
   "execution_count": 12,
   "id": "d47669a7",
   "metadata": {},
   "outputs": [],
   "source": [
    "class MaskTransformer(layers.Layer):\n",
    "\n",
    "    def __init__(self, num_classes, num_transformer_layers, projection_dim, num_heads, transformer_units, dropout, epsilon):\n",
    "        super(MaskTransformer, self).__init__()\n",
    "        \n",
    "        self.num_classes = num_classes\n",
    "        self.num_transformer_layers =  num_transformer_layers\n",
    "        self.projection_dim = projection_dim\n",
    "        self.num_heads = num_heads\n",
    "        self.transformer_units = transformer_units\n",
    "        self.dropout = dropout\n",
    "        self.epsilon = epsilon\n",
    "        \n",
    "        self.cls_tokens = tf.random.normal((1, self.num_classes, self.projection_dim))\n",
    "        self.transformerLayer = TransfomerLayer(self.num_transformer_layers, self.projection_dim, self.num_heads,\n",
    "                                                self.transformer_units,  self.dropout,  self.epsilon )\n",
    "\n",
    "    def call(self, x):\n",
    "\n",
    "        b = tf.shape(x)[0]#x.shape[0]\n",
    "        cls_tokens = tf.repeat(self.cls_tokens,[b], axis=0) \n",
    "        x = layers.concatenate([cls_tokens,x ], axis=1)\n",
    "        x = self.transformerLayer(x)\n",
    "        c = x[:, :self.num_classes]\n",
    "        z = x[:, self.num_classes:]\n",
    "        return z, c"
   ]
  },
  {
   "cell_type": "code",
   "execution_count": 13,
   "id": "ce6be8e6",
   "metadata": {},
   "outputs": [],
   "source": [
    "class Upsample(layers.Layer):\n",
    "\n",
    "    def __init__(self, image_size, patch_size):\n",
    "        super(Upsample, self).__init__()\n",
    "        self.image_size = image_size\n",
    "        self.patch_size = patch_size\n",
    "        self.p = self.image_size // self.patch_size\n",
    "        self.upsample = layers.UpSampling2D( size=(self.patch_size, self.patch_size), interpolation='bilinear')\n",
    "\n",
    "        \n",
    "    def call(self, x):\n",
    "           \n",
    "        x = tf.reshape(x, (tf.shape(x)[0], self.p,  self.p, x.shape[2]))\n",
    "        x = self.upsample(x)\n",
    "        \n",
    "        return x"
   ]
  },
  {
   "cell_type": "code",
   "execution_count": 14,
   "id": "9c2faa4c",
   "metadata": {},
   "outputs": [],
   "source": [
    "class Decoder(layers.Layer):\n",
    "\n",
    "    def __init__(self, num_classes, image_size, patch_size, num_transformer_layers,\n",
    "                 projection_dim, num_heads, transformer_units, dropout, epsilon, scale):\n",
    "        \n",
    "        super(Decoder, self).__init__()\n",
    "        \n",
    "        self.num_classes = num_classes\n",
    "        self.image_size = image_size\n",
    "        self.patch_size = patch_size\n",
    "\n",
    "        self.num_transformer_layers =  num_transformer_layers\n",
    "        self.projection_dim = projection_dim\n",
    "        self.num_heads = num_heads\n",
    "        self.transformer_units = transformer_units\n",
    "        self.dropout = dropout\n",
    "        self.epsilon = epsilon\n",
    "        self.scale = scale\n",
    "\n",
    "        self.maskTransformer = MaskTransformer(self.num_classes, self.num_transformer_layers,  self.projection_dim,\n",
    "                                                self.num_heads,  self.transformer_units,  self.dropout, self.epsilon)\n",
    "        \n",
    "        self.upsample =  Upsample(self.image_size, self.patch_size)\n",
    "\n",
    "    def call(self, x):\n",
    "\n",
    "        z, c = self.maskTransformer (x)\n",
    "        masks = z @ tf.transpose(c, perm=[0, 2, 1])\n",
    "        masks = tf.nn.softmax(masks / self.scale, axis=-1)\n",
    "        upsapled_masks = self.upsample(masks)\n",
    "        \n",
    "        return upsapled_masks"
   ]
  },
  {
   "cell_type": "code",
   "execution_count": 15,
   "id": "f9188c77",
   "metadata": {},
   "outputs": [],
   "source": [
    "def create_model(input_shape, image_size,  patch_size, num_patches, num_classes, num_encoder_transformer_layers,\n",
    "                 num_decoder_transformer_layers, projection_dim, num_heads,\n",
    "                 transformer_units, dropout, epsilon, scale\n",
    "                ):\n",
    "    \n",
    "    inputs = layers.Input(shape=input_shape)\n",
    "    print('Input Shape :',inputs.shape)\n",
    "    \n",
    "    # Augment data.\n",
    "    data_preprocessing = DataPreprocessing(inputs)\n",
    "    print('Augmented Shape: ',data_preprocessing.shape)\n",
    "\n",
    "    # Create patches.\n",
    "    patches = Patches(patch_size)(data_preprocessing)\n",
    "    print('Patch Shape: ',patches.shape)\n",
    "    \n",
    "    # Encoded patches.\n",
    "    encoded_patches = PatchEncoder(num_patches, projection_dim)(patches)\n",
    "    print('Encoded patch Shape: ', encoded_patches.shape)\n",
    "    \n",
    "     # Create Encoder.\n",
    "    encoder = Encoder(num_encoder_transformer_layers, projection_dim, num_heads, transformer_units, dropout, epsilon)(encoded_patches)\n",
    "    print('Encoder output Shape: ', encoder.shape)\n",
    "\n",
    "    # Create Decoder.\n",
    "    decoder = Decoder(num_classes, image_size, patch_size, num_decoder_transformer_layers,\n",
    "                      projection_dim, num_heads, transformer_units, dropout, epsilon, scale)(encoder)\n",
    "    print('Decoder output Shape: ', decoder.shape)\n",
    "    \n",
    "    model = keras.Model(inputs=inputs, outputs=decoder)\n",
    "    return model"
   ]
  },
  {
   "cell_type": "code",
   "execution_count": 17,
   "id": "2335e4ff",
   "metadata": {
    "scrolled": true
   },
   "outputs": [
    {
     "name": "stdout",
     "output_type": "stream",
     "text": [
      "Input Shape : (None, 384, 384, 3)\n",
      "Augmented Shape:  (None, 256, 256, 3)\n",
      "Patch Shape:  (None, 1024, 192)\n",
      "Encoded patch Shape:  (None, 1024, 128)\n",
      "Encoder output Shape:  (None, 1024, 128)\n",
      "Decoder output Shape:  (None, 256, 256, 5)\n"
     ]
    }
   ],
   "source": [
    "model = create_model(input_shape, image_size,  patch_size, num_patches, num_classes,\n",
    "                     num_encoder_transformer_layers, num_decoder_transformer_layers,\n",
    "                     projection_dim, num_heads,transformer_units, dropout, epsilon, scale\n",
    "                     )"
   ]
  },
  {
   "cell_type": "code",
   "execution_count": null,
   "id": "e8d2d994",
   "metadata": {},
   "outputs": [],
   "source": []
  }
 ],
 "metadata": {
  "kernelspec": {
   "display_name": "Python 3",
   "language": "python",
   "name": "python3"
  },
  "language_info": {
   "codemirror_mode": {
    "name": "ipython",
    "version": 3
   },
   "file_extension": ".py",
   "mimetype": "text/x-python",
   "name": "python",
   "nbconvert_exporter": "python",
   "pygments_lexer": "ipython3",
   "version": "3.7.10"
  }
 },
 "nbformat": 4,
 "nbformat_minor": 5
}
