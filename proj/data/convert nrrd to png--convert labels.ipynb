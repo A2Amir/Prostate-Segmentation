{
 "cells": [
  {
   "cell_type": "code",
   "execution_count": 1,
   "metadata": {},
   "outputs": [],
   "source": [
    "import os\n",
    "import cv2\n",
    "import numpy as np\n",
    "import SimpleITK as sitk\n",
    "from scipy.stats import pearsonr\n",
    "import matplotlib.pyplot as plt\n",
    "import imageio\n",
    "import numpy as np\n",
    "import nrrd\n",
    "import tensorflow as tf\n"
   ]
  },
  {
   "cell_type": "code",
   "execution_count": 2,
   "metadata": {},
   "outputs": [],
   "source": [
    "img_path = '/storage/ziaeea21/projects/Prostate_Segmentation/data/orginal_label/labels.nrrd'\n",
    "save_path = \"/storage/ziaeea21/projects/Prostate_Segmentation/data/Train/labels/\""
   ]
  },
  {
   "cell_type": "code",
   "execution_count": 3,
   "metadata": {},
   "outputs": [],
   "source": [
    "def read_data(img_path):\n",
    "    readdata, header = nrrd.read(img_path)\n",
    "    print('The shape of data is: ',readdata.shape)\n",
    "    return readdata"
   ]
  },
  {
   "cell_type": "code",
   "execution_count": 15,
   "metadata": {},
   "outputs": [],
   "source": [
    "def preprocess_save_imgs(readdata, save_path):\n",
    "    \n",
    "    t=readdata[:,:,:]\n",
    "    t=cv2.resize( t  , (256 , 256))\n",
    "    # rr=np.flip(t)\n",
    "    tt=np.rot90(t)\n",
    "    ttt=np.rot90(tt)\n",
    "    tttt=np.rot90(ttt)\n",
    "    g=np.fliplr(tttt)\n",
    "    #g=g * 63.75\n",
    "    n=np.shape (g)[-1]\n",
    "\n",
    "    os.makedirs(save_path, exist_ok=True)\n",
    "\n",
    "    for i in range(n):\n",
    "\n",
    "        Slice = g[:,:,i]\n",
    "        Slice = tf.cast(Slice, tf.uint8)\n",
    "        Name = save_path + \"Slices0144%s\"%(i)+\".png\" \n",
    "        imageio.imwrite(Name,Slice)\n",
    "        \n",
    "        \n",
    "def find_number_of_classes(readdata):\n",
    "    n_classes = []\n",
    "    for i in range(readdata.shape[2]):\n",
    "        n_classes.append(len(np.unique(readdata[:,:,i]))) \n",
    "    #print('Number of classes: ', np.max(n_classes))\n",
    "    return np.max(n_classes)\n",
    "    \n",
    "def show_img(readdata):\n",
    "    rnd_img = np.random.randint(0,readdata.shape[2])\n",
    "    n_classes = find_number_of_classes(readdata)\n",
    "    fig, axs = plt.subplots(1,n_classes, figsize=(15, 6), facecolor='w', edgecolor='k')\n",
    "    axs = axs.ravel()\n",
    "    print('Unique numbers in the image are: ', np.unique(readdata[:,:, rnd_img]))\n",
    "\n",
    "    print('Image number: ', rnd_img)\n",
    "    for i in range(n_classes):\n",
    "        axs[i].imshow(readdata[:,:,rnd_img]==i)\n",
    "        axs[i].set_title(str(i))\n",
    "\n",
    "    plt.show()"
   ]
  },
  {
   "cell_type": "code",
   "execution_count": 16,
   "metadata": {},
   "outputs": [
    {
     "name": "stdout",
     "output_type": "stream",
     "text": [
      "The shape of data is:  (384, 384, 19)\n"
     ]
    }
   ],
   "source": [
    "readdata = read_data(img_path)\n"
   ]
  },
  {
   "cell_type": "code",
   "execution_count": 17,
   "metadata": {},
   "outputs": [
    {
     "name": "stdout",
     "output_type": "stream",
     "text": [
      "Unique numbers in the image are:  [0 1 2 4]\n",
      "Image number:  10\n"
     ]
    },
    {
     "data": {
      "image/png": "[encoded data removed]",
      "text/plain": [
       "<Figure size 1080x432 with 5 Axes>"
      ]
     },
     "metadata": {},
     "output_type": "display_data"
    }
   ],
   "source": [
    "show_img(readdata)"
   ]
  },
  {
   "cell_type": "code",
   "execution_count": 18,
   "metadata": {},
   "outputs": [],
   "source": [
    "preprocess_save_imgs(readdata, save_path)"
   ]
  },
  {
   "cell_type": "code",
   "execution_count": null,
   "metadata": {},
   "outputs": [],
   "source": []
  }
 ],
 "metadata": {
  "kernelspec": {
   "display_name": "Python 3",
   "language": "python",
   "name": "python3"
  },
  "language_info": {
   "codemirror_mode": {
    "name": "ipython",
    "version": 3
   },
   "file_extension": ".py",
   "mimetype": "text/x-python",
   "name": "python",
   "nbconvert_exporter": "python",
   "pygments_lexer": "ipython3",
   "version": "3.7.10"
  }
 },
 "nbformat": 4,
 "nbformat_minor": 4
}
